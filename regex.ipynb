{
 "cells": [
  {
   "cell_type": "code",
   "execution_count": 2,
   "metadata": {},
   "outputs": [],
   "source": [
    "import re"
   ]
  },
  {
   "cell_type": "markdown",
   "metadata": {},
   "source": [
    "^ in Regular Expression"
   ]
  },
  {
   "cell_type": "code",
   "execution_count": 50,
   "metadata": {},
   "outputs": [
    {
     "name": "stdout",
     "output_type": "stream",
     "text": [
      "Search successful.\n"
     ]
    }
   ],
   "source": [
    "pattern = '^a....s'\n",
    "test_strinng = 'abcyss'\n",
    "result = re.match(pattern,test_strinng)\n",
    "\n",
    "if result:\n",
    "    print(\"Search successful.\")\n",
    "else:\n",
    "    print(\"Search unsuccessful.\")"
   ]
  },
  {
   "cell_type": "code",
   "execution_count": 3,
   "metadata": {},
   "outputs": [
    {
     "name": "stdout",
     "output_type": "stream",
     "text": [
      "Found\n"
     ]
    }
   ],
   "source": [
    "find = '^M'\n",
    "name = \"Maxim\"\n",
    "result = re.match(find, name)\n",
    "if result:\n",
    "    print(\"Found\")\n",
    "else:\n",
    "    print(\"No Found\")"
   ]
  },
  {
   "cell_type": "code",
   "execution_count": 52,
   "metadata": {},
   "outputs": [
    {
     "name": "stdout",
     "output_type": "stream",
     "text": [
      "Find successful\n"
     ]
    }
   ],
   "source": [
    "find = '^M...m$'\n",
    "name = 'Maxim'\n",
    "result = re.match(find, name)\n",
    "if result:\n",
    "    print(\"Find successful\")\n",
    "else:\n",
    "    print(\"Not found\")"
   ]
  },
  {
   "cell_type": "markdown",
   "metadata": {},
   "source": [
    "[] in Regular Expression"
   ]
  },
  {
   "cell_type": "code",
   "execution_count": 14,
   "metadata": {},
   "outputs": [
    {
     "name": "stdout",
     "output_type": "stream",
     "text": [
      "['d', 'i', 'n', 'g', 'i', 'e', 'a', 'l', 'l', 'a', 'm', 'a', 'i', 'n', 'g']\n"
     ]
    }
   ],
   "source": [
    "# Find all thte lower case characters alphabetically between \"a\" and \"n\": []\n",
    "\n",
    "text = 'Coding is really amazing'\n",
    "x = re.findall(\"[a-n]\", text)\n",
    "print(x)"
   ]
  },
  {
   "cell_type": "code",
   "execution_count": 15,
   "metadata": {},
   "outputs": [
    {
     "name": "stdout",
     "output_type": "stream",
     "text": [
      "['m', 'k', 'n']\n"
     ]
    }
   ],
   "source": [
    "text = \"Practice make perfect, happy coding\"\n",
    "x = re.findall(\"[j-n]\", text)\n",
    "print(x)"
   ]
  },
  {
   "cell_type": "code",
   "execution_count": 22,
   "metadata": {},
   "outputs": [
    {
     "name": "stdout",
     "output_type": "stream",
     "text": [
      "['3', '4', '5', '6']\n"
     ]
    }
   ],
   "source": [
    "number = '12345679'\n",
    "x = re.findall(\"[3-6]\", number)\n",
    "print(x)"
   ]
  },
  {
   "cell_type": "code",
   "execution_count": 24,
   "metadata": {},
   "outputs": [
    {
     "name": "stdout",
     "output_type": "stream",
     "text": [
      "['1', '2', 'a', 'g', '7', 'j', '8', '9']\n"
     ]
    }
   ],
   "source": [
    "number = \"12345a6g7j89\"\n",
    "x = re.findall(\"[^3-6]\", number)\n",
    "print(x)"
   ]
  },
  {
   "cell_type": "code",
   "execution_count": 27,
   "metadata": {},
   "outputs": [
    {
     "name": "stdout",
     "output_type": "stream",
     "text": [
      "['g', 's', 'j', 's', 'f', 'g']\n"
     ]
    }
   ],
   "source": [
    "number = \"1234gsj567sfg6336\"\n",
    "x = re.findall(\"[^0-9]\", number)\n",
    "print(x)"
   ]
  },
  {
   "cell_type": "markdown",
   "metadata": {},
   "source": [
    ". in Regular Expression"
   ]
  },
  {
   "cell_type": "code",
   "execution_count": 40,
   "metadata": {},
   "outputs": [
    {
     "name": "stdout",
     "output_type": "stream",
     "text": [
      "['M', 'a', 'x', 'i', 'm'] \n",
      " ['ax'] \n",
      " ['Ma', 'xi'] \n",
      " ['Max']\n"
     ]
    }
   ],
   "source": [
    "text = \"Maxim\"\n",
    "x = re.findall(\".\", text)\n",
    "y = re.findall(\".x\", text)\n",
    "z = re.findall(\"..\", text)\n",
    "a = re.findall(\"..x\", text)\n",
    "print(x, \"\\n\", y, \"\\n\", z, \"\\n\", a)"
   ]
  },
  {
   "cell_type": "markdown",
   "metadata": {
    "tags": []
   },
   "source": [
    "<h1 style=\"color:red\">Failed: $ in Regular Expression</h1>"
   ]
  },
  {
   "cell_type": "code",
   "execution_count": 67,
   "metadata": {},
   "outputs": [
    {
     "name": "stdout",
     "output_type": "stream",
     "text": [
      "No Found\n"
     ]
    }
   ],
   "source": [
    "name = \"Maxim\"\n",
    "end = \"m$\"\n",
    "result = re.match(end, name)\n",
    "if result:\n",
    "    print(\"Found\")\n",
    "else:\n",
    "    print(\"No Found\")"
   ]
  },
  {
   "cell_type": "markdown",
   "metadata": {},
   "source": [
    "<h1 style=\"color:red\">+ in Regular Expression</h1>"
   ]
  },
  {
   "cell_type": "code",
   "execution_count": 70,
   "metadata": {},
   "outputs": [
    {
     "name": "stdout",
     "output_type": "stream",
     "text": [
      "No Found\n"
     ]
    }
   ],
   "source": [
    "name = \"Maxim\"\n",
    "find = \"ma+x\"\n",
    "x = re.findall(find, name)\n",
    "if x:\n",
    "    print(\"Find\")\n",
    "else:\n",
    "    print(\"No Found\")"
   ]
  },
  {
   "cell_type": "markdown",
   "metadata": {},
   "source": [
    "# Examples"
   ]
  },
  {
   "cell_type": "markdown",
   "metadata": {},
   "source": [
    "## Prgram to extract numbers from a string"
   ]
  },
  {
   "cell_type": "code",
   "execution_count": 74,
   "metadata": {},
   "outputs": [
    {
     "name": "stdout",
     "output_type": "stream",
     "text": [
      "['124', '45', '25']\n"
     ]
    }
   ],
   "source": [
    "string = \"hello 124 hi 45, Howdy 25\"\n",
    "pattern = \"\\d+\"\n",
    "result = re.findall(pattern, string)\n",
    "print(result)"
   ]
  },
  {
   "cell_type": "code",
   "execution_count": 75,
   "metadata": {},
   "outputs": [
    {
     "name": "stdout",
     "output_type": "stream",
     "text": [
      "['Twelve:', ' Eighty nine:', '']\n"
     ]
    }
   ],
   "source": [
    "string = \"Twelve:12 Eighty nine:89\"\n",
    "pattern = '\\d+'\n",
    "result = re.split(pattern, string)\n",
    "print(result)"
   ]
  },
  {
   "cell_type": "markdown",
   "metadata": {},
   "source": [
    "## Program to remove all white space"
   ]
  },
  {
   "cell_type": "code",
   "execution_count": 87,
   "metadata": {},
   "outputs": [
    {
     "name": "stdout",
     "output_type": "stream",
     "text": [
      "abc 12 de 23 f4 6\n"
     ]
    }
   ],
   "source": [
    "string = \"abc 12 de     23  \\n   f4     6\"\n",
    "pattern = '\\s+'\n",
    "replace = \" \"\n",
    "new_string = re.sub(pattern, replace, string)\n",
    "print(new_string)"
   ]
  },
  {
   "cell_type": "code",
   "execution_count": 5,
   "metadata": {},
   "outputs": [
    {
     "name": "stdout",
     "output_type": "stream",
     "text": [
      "('abc 12\\\\ de 23 f45 6', 5)\n"
     ]
    }
   ],
   "source": [
    "string = \"abc 12\\ de    23 \\n f45 6\"\n",
    "pattern = \"\\s+\"\n",
    "replace = \" \"\n",
    "new_string = re.subn(pattern, replace, string)\n",
    "print(new_string)"
   ]
  },
  {
   "cell_type": "code",
   "execution_count": 13,
   "metadata": {},
   "outputs": [
    {
     "name": "stdout",
     "output_type": "stream",
     "text": [
      "Found\n"
     ]
    }
   ],
   "source": [
    "string = \"Coding is amazing\"\n",
    "match = re.search(\"\\ACoding\", string)\n",
    "if match:\n",
    "    print(\"Found\")\n",
    "else:\n",
    "    print(\"No Found\")"
   ]
  },
  {
   "cell_type": "markdown",
   "metadata": {},
   "source": [
    "## Math Object"
   ]
  },
  {
   "cell_type": "code",
   "execution_count": 26,
   "metadata": {},
   "outputs": [
    {
     "name": "stdout",
     "output_type": "stream",
     "text": [
      "235 32\n",
      "235\n",
      "32\n",
      "235 32\n",
      "2\n",
      "8\n",
      "(2, 8)\n",
      "re.compile('(\\\\d{3}) (\\\\d{2})')\n",
      "24235 32353, 25365 2434243\n"
     ]
    }
   ],
   "source": [
    "string = \"24235 32353, 25365 2434243\"\n",
    "pattern = \"(\\d{3}) (\\d{2})\"\n",
    "match = re.search(pattern, string)\n",
    "if match:\n",
    "    print(match.group())\n",
    "else:\n",
    "    print(\"No Found\")\n",
    "\n",
    "print(match.group(1))\n",
    "print(match.group(2))\n",
    "print(match.group())\n",
    "print(match.start())\n",
    "print(match.end())\n",
    "print(match.span())\n",
    "print(match.re)\n",
    "print(match.string)"
   ]
  },
  {
   "cell_type": "code",
   "execution_count": 84,
   "metadata": {},
   "outputs": [
    {
     "name": "stdout",
     "output_type": "stream",
     "text": [
      "['5', '9']\n"
     ]
    }
   ],
   "source": [
    "# Lets look at \\\n",
    "txt = \"That will be 59 dollars\"\n",
    "# Find all digits characters\n",
    "x = re.findall(\"\\d\", txt)\n",
    "print(x)\n"
   ]
  },
  {
   "cell_type": "code",
   "execution_count": 5,
   "metadata": {},
   "outputs": [
    {
     "name": "stdout",
     "output_type": "stream",
     "text": [
      "['hello']\n"
     ]
    }
   ],
   "source": [
    "txt = \"hello Planet\"\n",
    "# Search for a sequence that starts with \"he\", followed by two (any) characters, and an \"o\"\n",
    "x = re.findall(\"he..o\", txt)\n",
    "print(x)"
   ]
  },
  {
   "cell_type": "code",
   "execution_count": 6,
   "metadata": {},
   "outputs": [
    {
     "name": "stdout",
     "output_type": "stream",
     "text": [
      "Yes, the string starts with hello\n"
     ]
    }
   ],
   "source": [
    "txt = \"hello planet\"\n",
    "# Check if the string starts with 'hello'\n",
    "# ^: means start with\n",
    "x = re.findall(\"^hello\", txt)\n",
    "if x:\n",
    "    print(\"Yes, the string starts with hello\")\n",
    "else:\n",
    "    print(\"No match\")"
   ]
  },
  {
   "cell_type": "code",
   "execution_count": 7,
   "metadata": {},
   "outputs": [
    {
     "name": "stdout",
     "output_type": "stream",
     "text": [
      "Yes, the string ends with planet\n"
     ]
    }
   ],
   "source": [
    "txt = \"hello planet\"\n",
    "# Check if the string ends with 'planet'\n",
    "# $: means end with\n",
    "x = re.findall(\"planet$\", txt)\n",
    "if x:\n",
    "    print(\"Yes, the string ends with planet\")\n",
    "else:\n",
    "    print(\"No match\")"
   ]
  },
  {
   "cell_type": "code",
   "execution_count": 8,
   "metadata": {},
   "outputs": [
    {
     "name": "stdout",
     "output_type": "stream",
     "text": [
      "['hello']\n"
     ]
    }
   ],
   "source": [
    "txt = \"hello planet\"\n",
    "# Search for a sequence that starts with \"he\", followed by o or more any characters, and an \"o\"\n",
    "# ^: means start with\n",
    "x = re.findall(\"he.*o\", txt)\n",
    "print(x)"
   ]
  }
 ],
 "metadata": {
  "kernelspec": {
   "display_name": "Python 3",
   "language": "python",
   "name": "python3"
  },
  "language_info": {
   "codemirror_mode": {
    "name": "ipython",
    "version": 3
   },
   "file_extension": ".py",
   "mimetype": "text/x-python",
   "name": "python",
   "nbconvert_exporter": "python",
   "pygments_lexer": "ipython3",
   "version": "3.11.6"
  }
 },
 "nbformat": 4,
 "nbformat_minor": 2
}
