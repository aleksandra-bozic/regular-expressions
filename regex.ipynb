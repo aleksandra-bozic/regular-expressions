{
 "cells": [
  {
   "cell_type": "code",
   "execution_count": 12,
   "metadata": {},
   "outputs": [
    {
     "name": "stdout",
     "output_type": "stream",
     "text": [
      "Search successful.\n"
     ]
    }
   ],
   "source": [
    "import re\n",
    "pattern = '^a...s'\n",
    "test_strinng = 'abyss'\n",
    "result = re.match(pattern,test_strinng)\n",
    "\n",
    "if result:\n",
    "    print(\"Search successful.\")\n",
    "else:\n",
    "    print(\"Search unsuccessful.\")"
   ]
  },
  {
   "cell_type": "code",
   "execution_count": 15,
   "metadata": {},
   "outputs": [
    {
     "name": "stdout",
     "output_type": "stream",
     "text": [
      "['h', 'e', 'a', 'i', 'i', 'g', 'a', 'd', 'a']\n"
     ]
    }
   ],
   "source": [
    "text = 'The rain in Uganda'\n",
    "# Find all thte lower case characters alphabetically between \"a\" and \"n\": []\n",
    "x = re.findall(\"[a-m]\", text)\n",
    "print(x)"
   ]
  },
  {
   "cell_type": "code",
   "execution_count": 18,
   "metadata": {},
   "outputs": [
    {
     "name": "stdout",
     "output_type": "stream",
     "text": [
      "['5', '9']\n"
     ]
    }
   ],
   "source": [
    "# Lets look at \\\n",
    "txt = \"That will be 59 dollars\"\n",
    "# Find all digits characters\n",
    "x = re.findall(\"\\d\", txt)\n",
    "print(x)\n"
   ]
  },
  {
   "cell_type": "code",
   "execution_count": 22,
   "metadata": {},
   "outputs": [
    {
     "name": "stdout",
     "output_type": "stream",
     "text": [
      "['hello']\n"
     ]
    }
   ],
   "source": [
    "txt = \"hello Planet\"\n",
    "# Search for a sequence that starts with \"he\", followed by two (any) characters, and an \"o\"\n",
    "x = re.findall(\"he..o\", txt)\n",
    "print(x)"
   ]
  },
  {
   "cell_type": "code",
   "execution_count": 24,
   "metadata": {},
   "outputs": [
    {
     "name": "stdout",
     "output_type": "stream",
     "text": [
      "Yes, the string starts with hello\n"
     ]
    }
   ],
   "source": [
    "txt = \"hello planet\"\n",
    "# Check if the string starts with 'hello'\n",
    "# ^: means start with\n",
    "x = re.findall(\"^hello\", txt)\n",
    "if x:\n",
    "    print(\"Yes, the string starts with hello\")\n",
    "else:\n",
    "    print(\"No match\")"
   ]
  },
  {
   "cell_type": "code",
   "execution_count": 27,
   "metadata": {},
   "outputs": [
    {
     "name": "stdout",
     "output_type": "stream",
     "text": [
      "['planet']\n"
     ]
    }
   ],
   "source": [
    "txt = \"hello planet\"\n",
    "# Check if the string ends with 'planet'\n",
    "# $: means end with\n",
    "x = re.findall(\"planet$\", txt)\n",
    "if x:\n",
    "    print(\"Yes, the string ends with planet\")\n",
    "else:\n",
    "    print(\"No match\")"
   ]
  },
  {
   "cell_type": "code",
   "execution_count": 29,
   "metadata": {},
   "outputs": [
    {
     "name": "stdout",
     "output_type": "stream",
     "text": [
      "['hello']\n"
     ]
    }
   ],
   "source": [
    "txt = \"hello planet\"\n",
    "# Search for a sequence that starts with \"he\", followed by o or more any characters, and an \"o\"\n",
    "# ^: means start with\n",
    "x = re.findall(\"he.*o\", txt)\n",
    "print(x)"
   ]
  }
 ],
 "metadata": {
  "kernelspec": {
   "display_name": "Python 3",
   "language": "python",
   "name": "python3"
  },
  "language_info": {
   "codemirror_mode": {
    "name": "ipython",
    "version": 3
   },
   "file_extension": ".py",
   "mimetype": "text/x-python",
   "name": "python",
   "nbconvert_exporter": "python",
   "pygments_lexer": "ipython3",
   "version": "3.11.6"
  }
 },
 "nbformat": 4,
 "nbformat_minor": 2
}
